{
 "cells": [
  {
   "attachments": {},
   "cell_type": "markdown",
   "metadata": {},
   "source": [
    "# Vector search in Python (Azure AI Search)\n",
    "\n",
    "This code demonstrates how to use Azure AI Search by using the push API to insert vectors into your search index:\n",
    "\n",
    "+ Create an index schema\n",
    "+ Load the sample data from a local folder\n",
    "+ Embed the documents in-memory using Azure OpenAI's text-embedding-ada-002 model\n",
    "+ Index the vector and nonvector fields on Azure AI Search\n",
    "+ Run a series of vector and hybrid queries, including metadata filtering and hybrid (text + vectors) search. \n",
    "\n",
    "The code uses Azure OpenAI to generate embeddings for title and content fields. You'll need access to Azure OpenAI to run this demo.\n",
    "\n",
    "The code reads the `text-sample.json` file, which contains the input data for which embeddings need to be generated.\n",
    "\n",
    "The output is a combination of human-readable text and embeddings that can be pushed into a search index.\n",
    "\n",
    "## Prerequisites\n",
    "\n",
    "+ An Azure subscription, with [access to Azure OpenAI](https://aka.ms/oai/access). You must have the Azure OpenAI service name and an API key.\n",
    "\n",
    "+ A deployment of the text-embedding-ada-002 embedding model.\n",
    "\n",
    "+ Azure AI Search, any tier, but choose a service that has sufficient capacity for your vector index. We recommend Basic or higher. [Enable semantic ranking](https://learn.microsoft.com/azure/search/semantic-how-to-enable-disable) if you want to run the hybrid query with semantic ranking.\n",
    "\n",
    "We used Python 3.11, [Visual Studio Code with the Python extension](https://code.visualstudio.com/docs/python/python-tutorial), and the [Jupyter extension](https://marketplace.visualstudio.com/items?itemName=ms-toolsai.jupyter) to test this example."
   ]
  },
  {
   "cell_type": "markdown",
   "metadata": {},
   "source": [
    "### Set up a Python virtual environment in Visual Studio Code\n",
    "\n",
    "1. Open the Command Palette (Ctrl+Shift+P).\n",
    "1. Search for **Python: Create Environment**.\n",
    "1. Select **Venv**.\n",
    "1. Select a Python interpreter. Choose 3.10 or later.\n",
    "\n",
    "It can take a minute to set up. If you run into problems, see [Python environments in VS Code](https://code.visualstudio.com/docs/python/environments)."
   ]
  },
  {
   "cell_type": "markdown",
   "metadata": {},
   "source": [
    "### Install packages"
   ]
  },
  {
   "cell_type": "code",
   "execution_count": 6,
   "metadata": {},
   "outputs": [
    {
     "name": "stdout",
     "output_type": "stream",
     "text": [
      "\u001b[33mWARNING: You are using pip version 21.2.4; however, version 24.0 is available.\n",
      "You should consider upgrading via the '/Users/jayakrishnamandivarapu/Downloads/Azure-rag/.venv/bin/python3 -m pip install --upgrade pip' command.\u001b[0m\n"
     ]
    }
   ],
   "source": [
    "! pip install -r requirements.txt --quiet"
   ]
  },
  {
   "attachments": {},
   "cell_type": "markdown",
   "metadata": {},
   "source": [
    "## Import required libraries and environment variables"
   ]
  },
  {
   "cell_type": "code",
   "execution_count": 2,
   "metadata": {},
   "outputs": [],
   "source": [
    "from dotenv import load_dotenv\n",
    "from azure.identity import DefaultAzureCredential\n",
    "from azure.core.credentials import AzureKeyCredential\n",
    "import os\n",
    "\n",
    "load_dotenv(override=True) # take environment variables from .env.\n",
    "\n",
    "# The following variables from your .env file are used in this notebook\n",
    "endpoint = ''\n",
    "credential = AzureKeyCredential('') #if len(os.environ[\"AZURE_SEARCH_ADMIN_KEY\"]) > 0 else DefaultAzureCredential()\n",
    "index_name = 'azure-rag-aisearch'\n"
   ]
  },
  {
   "attachments": {},
   "cell_type": "markdown",
   "metadata": {},
   "source": [
    "## Create your search index\n",
    "\n",
    "Create your search index schema and vector search configuration. If you get an error, check the search service for available quota and check the .env file to make sure you're using a unique search index name."
   ]
  },
  {
   "cell_type": "code",
   "execution_count": 4,
   "metadata": {},
   "outputs": [
    {
     "name": "stdout",
     "output_type": "stream",
     "text": [
      " azure-rag-aisearch created\n"
     ]
    }
   ],
   "source": [
    "from azure.search.documents.indexes import SearchIndexClient\n",
    "from azure.search.documents.indexes.models import (\n",
    "    SimpleField,\n",
    "    SearchFieldDataType,\n",
    "    SearchableField,\n",
    "    SearchField,\n",
    "    VectorSearch,\n",
    "    HnswAlgorithmConfiguration,\n",
    "    VectorSearchProfile,\n",
    "    SemanticConfiguration,\n",
    "    SemanticPrioritizedFields,\n",
    "    SemanticField,\n",
    "    SemanticSearch,\n",
    "    SearchIndex\n",
    ")\n",
    "\n",
    "\n",
    "# Create a search index\n",
    "index_client = SearchIndexClient(\n",
    "    endpoint=endpoint, credential=credential)\n",
    "fields = [\n",
    "    SimpleField(name=\"id\", type=SearchFieldDataType.String, key=True, sortable=True, filterable=True, facetable=True),\n",
    "    SearchableField(name=\"question\", type=SearchFieldDataType.String),\n",
    "    SearchableField(name=\"answer\", type=SearchFieldDataType.String),\n",
    "    SearchField(name=\"questionVector\", type=SearchFieldDataType.Collection(SearchFieldDataType.Single),\n",
    "                searchable=True, vector_search_dimensions=384, vector_search_profile_name=\"myHnswProfile\"),\n",
    "    SearchField(name=\"answerVector\", type=SearchFieldDataType.Collection(SearchFieldDataType.Single),\n",
    "                searchable=True, vector_search_dimensions=384, vector_search_profile_name=\"myHnswProfile\"),\n",
    "]\n",
    "\n",
    "# Configure the vector search configuration  \n",
    "vector_search = VectorSearch(\n",
    "    algorithms=[\n",
    "        HnswAlgorithmConfiguration(\n",
    "            name=\"myHnsw\"\n",
    "        )\n",
    "    ],\n",
    "    profiles=[\n",
    "        VectorSearchProfile(\n",
    "            name=\"myHnswProfile\",\n",
    "            algorithm_configuration_name=\"myHnsw\",\n",
    "        )\n",
    "    ]\n",
    ")\n",
    "\n",
    "\n",
    "\n",
    "semantic_config = SemanticConfiguration(\n",
    "    name=\"my-semantic-config\",\n",
    "    prioritized_fields=SemanticPrioritizedFields(\n",
    "        title_field=SemanticField(field_name=\"question\"),\n",
    "        content_fields=[SemanticField(field_name=\"answer\")]\n",
    "    )\n",
    ")\n",
    "\n",
    "# Create the semantic settings with the configuration\n",
    "semantic_search = SemanticSearch(configurations=[semantic_config])\n",
    "\n",
    "# Create the search index with the semantic settings\n",
    "index = SearchIndex(name=index_name, fields=fields,\n",
    "                    vector_search=vector_search, semantic_search=semantic_search)\n",
    "result = index_client.create_or_update_index(index)\n",
    "print(f' {result.name} created')\n",
    "\n",
    "#index_client.delete_index(index)\n"
   ]
  },
  {
   "attachments": {},
   "cell_type": "markdown",
   "metadata": {},
   "source": [
    "## Insert Documents into Mongodb\n"
   ]
  },
  {
   "cell_type": "code",
   "execution_count": 7,
   "metadata": {},
   "outputs": [
    {
     "name": "stderr",
     "output_type": "stream",
     "text": [
      "/var/folders/rj/9_rfks_s4q9bxkt8hfth_z580000gn/T/ipykernel_73810/1692447351.py:43: UserWarning: You appear to be connected to a CosmosDB cluster. For more information regarding feature compatibility and support please visit https://www.mongodb.com/supportability/cosmosdb\n",
      "  client = pymongo.MongoClient(connection_string)\n"
     ]
    },
    {
     "name": "stdout",
     "output_type": "stream",
     "text": [
      "{'id': 6111, 'question': 'What is Microsoft Word?', 'answer': 'Microsoft Word is a word processing software developed by Microsoft. It allows users to create, edit, and format documents such as letters, reports, resumes, and more.'}\n",
      "{'id': 7111, 'question': 'What is Microsoft Excel?', 'answer': 'Microsoft Excel is a spreadsheet software developed by Microsoft. It is used for tasks such as storing, organizing, and manipulating data, as well as performing calculations, creating charts, and generating reports.'}\n",
      "{'id': 8111, 'question': 'What is Microsoft PowerPoint?', 'answer': 'Microsoft PowerPoint is a presentation software developed by Microsoft. It enables users to create slideshows with text, images, videos, and animations, making it suitable for presentations, lectures, and meetings.'}\n",
      "{'id': 9111, 'question': 'What is Microsoft Outlook?', 'answer': 'Microsoft Outlook is an email client and personal information manager developed by Microsoft. It allows users to manage email, contacts, calendars, tasks, and notes, and integrates with other Microsoft Office applications.'}\n",
      "{'id': 10111, 'question': 'What is Microsoft Teams?', 'answer': 'Microsoft Teams is a collaboration platform developed by Microsoft. It combines workplace chat, video meetings, file storage, and application integration, providing a hub for teamwork within organizations.'}\n",
      "{'id': 11111, 'question': 'What is Microsoft Azure?', 'answer': \"Microsoft Azure is a cloud computing platform and services developed by Microsoft. It offers a wide range of cloud services, including computing, storage, analytics, networking, and more, enabling businesses to build, deploy, and manage applications and services through Microsoft's global network of data centers.\"}\n",
      "Documents uploaded successfully.\n",
      "Databases:\n",
      "- azure-rag\n",
      "\n",
      "Collections in database 'azure-rag':\n",
      "- qa-pairs\n"
     ]
    }
   ],
   "source": [
    "# List of JSON objects with explicit _id field\n",
    "\n",
    "import pymongo\n",
    "import json\n",
    "\n",
    "data = [\n",
    "    {\n",
    "        \"id\": 6111,#key ID is required by Azure AI Search for dicument injection\n",
    "        \"question\": \"What is Microsoft Word?\",\n",
    "        \"answer\": \"Microsoft Word is a word processing software developed by Microsoft. It allows users to create, edit, and format documents such as letters, reports, resumes, and more.\"\n",
    "    },\n",
    "    {\n",
    "        \"id\": 7111,\n",
    "        \"question\": \"What is Microsoft Excel?\",\n",
    "        \"answer\": \"Microsoft Excel is a spreadsheet software developed by Microsoft. It is used for tasks such as storing, organizing, and manipulating data, as well as performing calculations, creating charts, and generating reports.\"\n",
    "    },\n",
    "    {\n",
    "        \"id\": 8111,\n",
    "        \"question\": \"What is Microsoft PowerPoint?\",\n",
    "        \"answer\": \"Microsoft PowerPoint is a presentation software developed by Microsoft. It enables users to create slideshows with text, images, videos, and animations, making it suitable for presentations, lectures, and meetings.\"\n",
    "    },\n",
    "    {\n",
    "        \"id\": 9111,\n",
    "        \"question\": \"What is Microsoft Outlook?\",\n",
    "        \"answer\": \"Microsoft Outlook is an email client and personal information manager developed by Microsoft. It allows users to manage email, contacts, calendars, tasks, and notes, and integrates with other Microsoft Office applications.\"\n",
    "    },\n",
    "    {\n",
    "        \"id\": 10111,\n",
    "        \"question\": \"What is Microsoft Teams?\",\n",
    "        \"answer\": \"Microsoft Teams is a collaboration platform developed by Microsoft. It combines workplace chat, video meetings, file storage, and application integration, providing a hub for teamwork within organizations.\"\n",
    "    },\n",
    "    {\n",
    "        \"id\": 11111,\n",
    "        \"question\": \"What is Microsoft Azure?\",\n",
    "        \"answer\": \"Microsoft Azure is a cloud computing platform and services developed by Microsoft. It offers a wide range of cloud services, including computing, storage, analytics, networking, and more, enabling businesses to build, deploy, and manage applications and services through Microsoft's global network of data centers.\"\n",
    "    }\n",
    "]\n",
    "\n",
    "\n",
    "\n",
    "# MongoDB connection string\n",
    "connection_string = \"\"\n",
    "client = pymongo.MongoClient(connection_string)\n",
    "\n",
    "# Database name and collection name\n",
    "db = client[\"azure-rag\"]\n",
    "collection = db[\"qa-pairs\"]\n",
    "\n",
    "# Upload each JSON object to MongoDB\n",
    "for document in data:\n",
    "  print(document)\n",
    "  collection.insert_one(document)\n",
    "\n",
    "print(\"Documents uploaded successfully.\")\n",
    "\n",
    "# List all databases\n",
    "print(\"Databases:\")\n",
    "for db in client.list_databases():\n",
    "    print(f\"- {db['name']}\")\n",
    "\n",
    "# List all collections in each database\n",
    "for db_name in client.list_database_names():\n",
    "    print(f\"\\nCollections in database '{db_name}':\")\n",
    "    db = client[db_name]\n",
    "    for collection_name in db.list_collection_names():\n",
    "        print(f\"- {collection_name}\")\n"
   ]
  },
  {
   "attachments": {},
   "cell_type": "markdown",
   "metadata": {},
   "source": [
    "## Perform a vector similarity search"
   ]
  },
  {
   "cell_type": "markdown",
   "metadata": {},
   "source": [
    "This example shows a pure vector search using the vectorizable text query, all you need to do is pass in text and your vectorizer will handle the query vectorization."
   ]
  },
  {
   "cell_type": "code",
   "execution_count": 15,
   "metadata": {},
   "outputs": [
    {
     "name": "stdout",
     "output_type": "stream",
     "text": [
      "Title: What is Microsoft Word?\n",
      "Score: 0.8596472\n",
      "Content: Microsoft Word is a word processing software developed by Microsoft. It allows users to create, edit, and format documents such as letters, reports, resumes, and more.\n",
      "Title: What is Microsoft PowerPoint?\n",
      "Score: 0.66533184\n",
      "Content: Microsoft PowerPoint is a presentation software developed by Microsoft. It enables users to create slideshows with text, images, videos, and animations, making it suitable for presentations, lectures, and meetings.\n",
      "Title: What is Microsoft Excel?\n",
      "Score: 0.662339\n",
      "Content: Microsoft Excel is a spreadsheet software developed by Microsoft. It is used for tasks such as storing, organizing, and manipulating data, as well as performing calculations, creating charts, and generating reports.\n"
     ]
    }
   ],
   "source": [
    "from azure.search.documents.models import VectorizedQuery\n",
    "import requests\n",
    "from azure.search.documents import SearchClient\n",
    "\n",
    "search_client = SearchClient(endpoint=endpoint, index_name=index_name, credential=credential)\n",
    "\n",
    "# Pure Vector Search\n",
    "query = \"Microsoft Word?\"  \n",
    "hf_token = \"\" #\"get your token in http://hf.co/settings/tokens\"\n",
    "model_id = \"sentence-transformers/all-MiniLM-L6-v2\"\n",
    "\n",
    "api_url = f\"https://api-inference.huggingface.co/pipeline/feature-extraction/{model_id}\"\n",
    "headers = {\"Authorization\": f\"Bearer {hf_token}\"}\n",
    "response=requests.post(api_url, headers=headers, json={\"inputs\": query, \"options\":{\"wait_for_model\":True}})\n",
    "embedding=response.json()  \n",
    "vector_query = VectorizedQuery(vector=embedding, k_nearest_neighbors=3, fields=\"answerVector\")\n",
    "  \n",
    "results = search_client.search(  \n",
    "    search_text=None,  \n",
    "    vector_queries= [vector_query],\n",
    "    select=[\"question\", \"answer\"],\n",
    ")  \n",
    "  \n",
    "for result in results:  \n",
    "    print(f\"Title: {result['question']}\")  \n",
    "    print(f\"Score: {result['@search.score']}\")  \n",
    "    print(f\"Content: {result['answer']}\")  \n"
   ]
  },
  {
   "cell_type": "markdown",
   "metadata": {},
   "source": [
    "## Perform an Exhaustive KNN exact nearest neighbor search"
   ]
  },
  {
   "cell_type": "markdown",
   "metadata": {},
   "source": [
    "This example shows how you can exhaustively search your vector index regardless of what index you have, HNSW or ExhaustiveKNN. You can use this to calculate the ground-truth values."
   ]
  },
  {
   "cell_type": "code",
   "execution_count": null,
   "metadata": {},
   "outputs": [],
   "source": [
    "from azure.search.documents.models import VectorizedQuery\n",
    "import requests\n",
    "from azure.search.documents import SearchClient\n",
    "\n",
    "search_client = SearchClient(endpoint=endpoint, index_name=index_name, credential=credential)\n",
    "\n",
    "# Pure Vector Search\n",
    "query = \"Microsoft Word?\"  \n",
    "hf_token = \"\" #\"get your token in http://hf.co/settings/tokens\"\n",
    "model_id = \"sentence-transformers/all-MiniLM-L6-v2\"\n",
    "\n",
    "api_url = f\"https://api-inference.huggingface.co/pipeline/feature-extraction/{model_id}\"\n",
    "headers = {\"Authorization\": f\"Bearer {hf_token}\"}\n",
    "response=requests.post(api_url, headers=headers, json={\"inputs\": query, \"options\":{\"wait_for_model\":True}})\n",
    "embedding=response.json()  \n",
    "vector_query = VectorizedQuery(vector=embedding, k_nearest_neighbors=3,exhaustive=True, fields=\"answerVector\")\n",
    "  \n",
    "results = search_client.search(  \n",
    "    search_text=None,  \n",
    "    vector_queries= [vector_query],\n",
    "    select=[\"question\", \"answer\"],\n",
    ")  \n",
    "  \n",
    "for result in results:  \n",
    "    print(f\"Title: {result['question']}\")  \n",
    "    print(f\"Score: {result['@search.score']}\")  \n",
    "    print(f\"Content: {result['answer']}\")  \n"
   ]
  },
  {
   "cell_type": "markdown",
   "metadata": {},
   "source": [
    "## Perform a Cross-Field Vector Search\n",
    "\n",
    "This example shows a cross-field vector search that allows you to query multiple vector fields at the same time. Note, ensure that the same embedding model was used for the vector fields you decide to query."
   ]
  },
  {
   "cell_type": "code",
   "execution_count": 16,
   "metadata": {},
   "outputs": [
    {
     "name": "stdout",
     "output_type": "stream",
     "text": [
      "Title: What is Microsoft Word?\n",
      "Score: 0.03333333507180214\n",
      "Content: Microsoft Word is a word processing software developed by Microsoft. It allows users to create, edit, and format documents such as letters, reports, resumes, and more.\n",
      "Title: What is Microsoft PowerPoint?\n",
      "Score: 0.032786883413791656\n",
      "Content: Microsoft PowerPoint is a presentation software developed by Microsoft. It enables users to create slideshows with text, images, videos, and animations, making it suitable for presentations, lectures, and meetings.\n",
      "Title: What is Microsoft Excel?\n",
      "Score: 0.032258063554763794\n",
      "Content: Microsoft Excel is a spreadsheet software developed by Microsoft. It is used for tasks such as storing, organizing, and manipulating data, as well as performing calculations, creating charts, and generating reports.\n"
     ]
    }
   ],
   "source": [
    "# Pure Vector Search\n",
    "\n",
    "# Pure Vector Search\n",
    "query = \"Microsoft Word?\"  \n",
    "hf_token = \"\" #\"get your token in http://hf.co/settings/tokens\"\n",
    "model_id = \"sentence-transformers/all-MiniLM-L6-v2\"\n",
    "\n",
    "api_url = f\"https://api-inference.huggingface.co/pipeline/feature-extraction/{model_id}\"\n",
    "headers = {\"Authorization\": f\"Bearer {hf_token}\"}\n",
    "response=requests.post(api_url, headers=headers, json={\"inputs\": query, \"options\":{\"wait_for_model\":True}})\n",
    "embedding=response.json()  \n",
    "vector_query = VectorizedQuery(vector=embedding, k_nearest_neighbors=3,exhaustive=True, fields=\"questionVector, answerVector\")\n",
    "  \n",
    "results = search_client.search(  \n",
    "    search_text=None,  \n",
    "    vector_queries= [vector_query],\n",
    "    select=[\"question\", \"answer\"],\n",
    ")  \n",
    "  \n",
    "for result in results:  \n",
    "    print(f\"Title: {result['question']}\")  \n",
    "    print(f\"Score: {result['@search.score']}\")  \n",
    "    print(f\"Content: {result['answer']}\")  \n",
    "\n"
   ]
  },
  {
   "attachments": {},
   "cell_type": "markdown",
   "metadata": {},
   "source": [
    "## Perform a Pure Vector Search with a filter\n",
    "This example shows how to apply filters on your index. Note, that you can choose whether you want to use Pre-Filtering (default) or Post-Filtering."
   ]
  },
  {
   "cell_type": "code",
   "execution_count": null,
   "metadata": {},
   "outputs": [],
   "source": [
    "from azure.search.documents.models import VectorFilterMode\n",
    "from azure.search.documents.models import VectorizedQuery\n",
    "import requests\n",
    "from azure.search.documents import SearchClient\n",
    "\n",
    "search_client = SearchClient(endpoint=endpoint, index_name=index_name, credential=credential)\n",
    "\n",
    "# Pure Vector Search\n",
    "query = \"Microsoft Word?\"  \n",
    "hf_token = \"\" #\"get your token in http://hf.co/settings/tokens\"\n",
    "model_id = \"sentence-transformers/all-MiniLM-L6-v2\"\n",
    "\n",
    "api_url = f\"https://api-inference.huggingface.co/pipeline/feature-extraction/{model_id}\"\n",
    "headers = {\"Authorization\": f\"Bearer {hf_token}\"}\n",
    "response=requests.post(api_url, headers=headers, json={\"inputs\": query, \"options\":{\"wait_for_model\":True}})\n",
    "embedding=response.json()  \n",
    "vector_query = VectorizedQuery(vector=embedding, k_nearest_neighbors=3,exhaustive=True, fields=\"answerVector\")\n",
    "\n",
    "results = search_client.search(  \n",
    "    search_text=None,  \n",
    "    vector_queries= [vector_query],\n",
    "    vector_filter_mode=VectorFilterMode.PRE_FILTER,\n",
    "    filter=\"category eq 'Developer Tools'\",\n",
    "    select=[\"title\", \"content\", \"category\"],\n",
    ")\n",
    "  \n",
    "for result in results:  \n",
    "    print(f\"Title: {result['title']}\")  \n",
    "    print(f\"Score: {result['@search.score']}\")  \n",
    "    print(f\"Content: {result['content']}\")  \n",
    "    print(f\"Category: {result['category']}\\n\")  \n"
   ]
  },
  {
   "attachments": {},
   "cell_type": "markdown",
   "metadata": {},
   "source": [
    "## Perform a Semantic Hybrid Search"
   ]
  },
  {
   "cell_type": "code",
   "execution_count": null,
   "metadata": {},
   "outputs": [],
   "source": [
    "from azure.search.documents.models import QueryType, QueryCaptionType, QueryAnswerType\n",
    "\n",
    "# Semantic Hybrid Search\n",
    "query = \"what is azure sarch?\"\n",
    "\n",
    "embedding = client.embeddings.create(input=query, model=embedding_model_name).data[0].embedding\n",
    "vector_query = VectorizedQuery(vector=embedding, k_nearest_neighbors=3, fields=\"contentVector\", exhaustive=True)\n",
    "\n",
    "results = search_client.search(  \n",
    "    search_text=query,  \n",
    "    vector_queries=[vector_query],\n",
    "    select=[\"title\", \"content\", \"category\"],\n",
    "    query_type=QueryType.SEMANTIC, semantic_configuration_name='my-semantic-config', query_caption=QueryCaptionType.EXTRACTIVE, query_answer=QueryAnswerType.EXTRACTIVE,\n",
    "    top=3\n",
    ")\n",
    "\n",
    "semantic_answers = results.get_answers()\n",
    "for answer in semantic_answers:\n",
    "    if answer.highlights:\n",
    "        print(f\"Semantic Answer: {answer.highlights}\")\n",
    "    else:\n",
    "        print(f\"Semantic Answer: {answer.text}\")\n",
    "    print(f\"Semantic Answer Score: {answer.score}\\n\")\n",
    "\n",
    "for result in results:\n",
    "    print(f\"Title: {result['title']}\")\n",
    "    print(f\"Reranker Score: {result['@search.reranker_score']}\")\n",
    "    print(f\"Content: {result['content']}\")\n",
    "    print(f\"Category: {result['category']}\")\n",
    "\n",
    "    captions = result[\"@search.captions\"]\n",
    "    if captions:\n",
    "        caption = captions[0]\n",
    "        if caption.highlights:\n",
    "            print(f\"Caption: {caption.highlights}\\n\")\n",
    "        else:\n",
    "            print(f\"Caption: {caption.text}\\n\")\n"
   ]
  },
  {
   "cell_type": "markdown",
   "metadata": {},
   "source": [
    "RAG answering using Llama3"
   ]
  },
  {
   "cell_type": "code",
   "execution_count": null,
   "metadata": {},
   "outputs": [],
   "source": [
    "from llama_index.llms.ollama import Ollama\n",
    "from llama_index.core import Settings\n",
    "from llama_index.prompts import PromptTemplate\n",
    "\n",
    "\n",
    "# setting up the llm\n",
    "llm = Ollama(model=\"llama3\", request_timeout=120.0) \n",
    "\n",
    "# ====== Setup a query engine on the index previously created ======\n",
    "Settings.llm = llm # specifying the llm to be used\n",
    "query_engine = index.as_query_engine(streaming=True, similarity_top_k=4)\n",
    "\n",
    "qa_prompt_tmpl_str = (\n",
    "            \"Context information is below.\\n\"\n",
    "            \"---------------------\\n\"\n",
    "            \"{context_str}\\n\"\n",
    "            \"---------------------\\n\"\n",
    "            \"Given the context information above I want you to think step by step to answer the query in a crisp manner, incase case you don't know the answer say 'I don't know!'.\\n\"\n",
    "            \"Query: {query_str}\\n\"\n",
    "            \"Answer: \"\n",
    "            )\n",
    "\n",
    "qa_prompt_tmpl = PromptTemplate(qa_prompt_tmpl_str)\n",
    "query_engine.update_prompts({\"response_synthesizer:text_qa_template\": qa_prompt_tmpl})\n",
    "\n",
    "response = query_engine.query('What exactly is DSPy?')\n",
    "print(response)"
   ]
  }
 ],
 "metadata": {
  "kernelspec": {
   "display_name": "Python 3",
   "language": "python",
   "name": "python3"
  },
  "language_info": {
   "codemirror_mode": {
    "name": "ipython",
    "version": 3
   },
   "file_extension": ".py",
   "mimetype": "text/x-python",
   "name": "python",
   "nbconvert_exporter": "python",
   "pygments_lexer": "ipython3",
   "version": "3.9.6"
  },
  "orig_nbformat": 4
 },
 "nbformat": 4,
 "nbformat_minor": 2
}
